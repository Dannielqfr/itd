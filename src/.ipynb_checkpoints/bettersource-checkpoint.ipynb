{
 "cells": [
  {
   "cell_type": "markdown",
   "id": "6041d8c6-c598-42f3-8b1b-fea1ce5e8680",
   "metadata": {
    "jp-MarkdownHeadingCollapsed": true
   },
   "source": [
    "# BASIS"
   ]
  },
  {
   "cell_type": "code",
   "execution_count": 1,
   "id": "c6af4405-255a-4ab9-8702-b8de11b4a876",
   "metadata": {},
   "outputs": [
    {
     "name": "stdout",
     "output_type": "stream",
     "text": [
      "Todas las columnas requeridas están presentes.\n"
     ]
    }
   ],
   "source": [
    "import numpy as np\n",
    "import matplotlib.pyplot as plt\n",
    "from statistics import mode\n",
    "import pandas as pd\n",
    "\n",
    "pd.set_option('display.max_columns', None)\n",
    "pd.set_option('display.max_colwidth', None)\n",
    "pd.set_option('display.float_format', lambda x: '%.0f' % x)\n",
    "\n",
    "dataMaterial24Ene = pd.read_excel(\"./../data/31Enero.xls\",sheet_name=\"Base por material\", dtype={'Identificador del Chip': str})\n",
    "dataMaterial24Feb = pd.read_excel(\"./../data/Febrero29.xls\",sheet_name=\"Base por material\", dtype={'Identificador del Chip': str})\n",
    "dataMaterial24Mar = pd.read_excel(\"./../data/Marzo31.xls\",sheet_name=\"Base por material\", dtype={'Identificador del Chip': str})\n",
    "dataMaterial24Abr = pd.read_excel(\"./../data/Abril30.xls\",sheet_name=\"Base por material\", dtype={'Identificador del Chip': str})\n",
    "dataMaterial24May = pd.read_excel(\"./../data/Mayo31.xls\",sheet_name=\"Base por material\", dtype={'Identificador del Chip': str})\n",
    "dataMaterial24Jun = pd.read_excel(\"./../data/Junio30.xls\",sheet_name=\"Base por material\", dtype={'Identificador del Chip': str})\n",
    "\n",
    "dataLector24Ene = pd.read_excel(\"./../data/31Enero.xls\",sheet_name=\"Base por lector\", dtype={'Identificador del Chip': str})\n",
    "dataLector24Feb = pd.read_excel(\"./../data/Febrero29.xls\",sheet_name=\"Base por lector\", dtype={'Identificador del Chip': str})\n",
    "dataLector24Mar = pd.read_excel(\"./../data/Marzo31.xls\",sheet_name=\"Base por lector\", dtype={'Identificador del Chip': str})\n",
    "dataLector24Abr = pd.read_excel(\"./../data/Abril30.xls\",sheet_name=\"Base por lector\", dtype={'Identificador del Chip': str})\n",
    "dataLector24May = pd.read_excel(\"./../data/Mayo31.xls\",sheet_name=\"Base por lector\", dtype={'Identificador del Chip': str})\n",
    "dataLector24Jun = pd.read_excel(\"./../data/Junio30.xls\",sheet_name=\"Base por lector\", dtype={'Identificador del Chip': str})\n",
    "\n",
    "data = pd.concat([\n",
    "    dataMaterial24Ene,\n",
    "    dataLector24Ene,\n",
    "    dataMaterial24Feb,\n",
    "    dataLector24Feb,\n",
    "    dataMaterial24Mar,\n",
    "    dataLector24Mar,\n",
    "    dataMaterial24Abr,\n",
    "    dataLector24Abr,\n",
    "    dataMaterial24May,\n",
    "    dataLector24May,\n",
    "    dataMaterial24Jun,\n",
    "    dataLector24Jun])\n",
    "\n",
    "required_columns = [    \n",
    "    'Antiguedad Cedente',\n",
    "    'Identificador del operador cedente',\n",
    "    'Cantidad de días de antiguedad',\n",
    "    'Modalidad segmento del operador cedente',\n",
    "    'Descripción operador cedente',\n",
    "    'Fecha desde que el cliente estuvo en operador cedente',\n",
    "  \n",
    "    'Modalidad de venta',\n",
    "    'Claro TV',\n",
    "    'Internet Fija',\n",
    "    'Telefonía Fija',\n",
    "    \n",
    "    'Tipo documento del vendedor',\n",
    "    'DNI del dueño de multimarca',\n",
    "    'Número de documento del vendedor',\n",
    "    'Flag Login Vendedor',\n",
    "    'Fecha Registro del dueño del multimarca',\n",
    "    \n",
    "    'Mes',\n",
    "    'Fecha de venta',\n",
    "    'Identificador del Chip',\n",
    "    'Serie del lector biométrico móvil',\n",
    "    'Número de telefono',\n",
    "    'Flag Recarga',\n",
    "    'Tipo de operación de venta',\n",
    "    'Modalidad segmento de venta',\n",
    "    'Descipción del plan',\n",
    "    'Número del pedido rerlacionado a la venta',\n",
    "    'Número de evaluación crediticia',\n",
    "    'Número de la orden de trabajo',\n",
    "    'Tipo venta C-CHIP/P-Pack',\n",
    "    'Identificador del equipo (IMEI)',\n",
    "    \n",
    "    'Aplicativo donde se realizó la venta',\n",
    "    'Canal del punto de venta del material',\n",
    "    'Plataforma',\n",
    "    \n",
    "    'Región asociado al punto de venta del chip',\n",
    "    'Dpto asociado al punto de venta del chip',\n",
    "    \n",
    "    'Razón social del dueño (LECTOR)',\n",
    "    'RUC del dueño al que se despaño el lector biométrico móvil',\n",
    "    'Razón social del dueño del chip que realizó la venta (MATERIAL)',\n",
    "    'RUC del dueño del chip que realizó la venta',\n",
    "    'Descripción del punto de venta del material',\n",
    "    'Código del punto de venta del material',\n",
    "\n",
    "    'Tipo de operación del biométrico',\n",
    "    'Tipo Val Biométrica',\n",
    "    'Tipo Venta Biométrico',\n",
    "    'Usuario de Biometría \"Biomovil\"',\n",
    "    'Venta Realizada Por',\n",
    "]\n",
    "\n",
    "columnas_faltantes = [col for col in required_columns if col not in data.columns]\n",
    "\n",
    "if columnas_faltantes:\n",
    "    print(f\"Las siguientes columnas faltan en el DataFrame: {columnas_faltantes}\")\n",
    "else:\n",
    "    print(\"Todas las columnas requeridas están presentes.\")"
   ]
  },
  {
   "cell_type": "code",
   "execution_count": 2,
   "id": "b0c7abdb-c3e9-4958-b318-1ade6d193cae",
   "metadata": {},
   "outputs": [
    {
     "name": "stdout",
     "output_type": "stream",
     "text": [
      "0\n"
     ]
    }
   ],
   "source": [
    "nulo1 = data['Aplicativo donde se realizó la venta'].isna().sum()\n",
    "nulo2 = data['Canal del punto de venta del material'].isna().sum()\n",
    "nulo3 = data['Descripción del punto de venta del material'].isna().sum()\n",
    "nulo4 = data['Código del punto de venta del material'].isna().sum()\n",
    "nulo5 = data['Dpto asociado al punto de venta del chip'].isna().sum()\n",
    "nulo6 = data['Mes'].isna().sum()\n",
    "nulo7 = data['Modalidad segmento de venta'].isna().sum()\n",
    "nulo8 = data['Tipo de operación de venta'].isna().sum()\n",
    "nulo9 = data['Región asociado al punto de venta del chip'].isna().sum()\n",
    "nulo10 = data['Tipo de operación del biométrico'].isna().sum()\n",
    "nulo11 = data['Tipo Val Biométrica'].isna().sum()\n",
    "nulo12 = data['Tipo Venta Biométrico'].isna().sum()\n",
    "nulo13 = data['Usuario de Biometría \"Biomovil\"'].isna().sum()\n",
    "nulo14 = data['Venta Realizada Por'].isna().sum()\n",
    "\n",
    "print(nulo1+nulo2+nulo3+nulo4+nulo5+nulo6+nulo7+nulo8+nulo9+nulo10+nulo11+nulo12+nulo13+nulo14)"
   ]
  },
  {
   "cell_type": "code",
   "execution_count": 3,
   "id": "c208ec31-11ca-4d42-9791-5c6f26328c29",
   "metadata": {},
   "outputs": [],
   "source": [
    "data.rename(columns={\n",
    "    'Antiguedad Cedente':'CEDENT_ISMORETHAN90DAYS',\n",
    "    'Identificador del operador cedente':'CEDENT_CODOPERADOR',\n",
    "    'Cantidad de días de antiguedad':'CEDENT_DIASANTIGUEDAD',\n",
    "    'Modalidad segmento del operador cedente':'CEDENT_PRODUCT',\n",
    "    'Descripción operador cedente':'CEDENT_OPERATOR',\n",
    "    'Fecha desde que el cliente estuvo en operador cedente':'CEDENT_DATE',\n",
    "    \n",
    "    'Modalidad de venta':'PLAY',\n",
    "    'Claro TV':'FIJA_TV',\n",
    "    'Internet Fija':'FIJA_INTERNET',\n",
    "    'Telefonía Fija':'FIJA_PHONE',\n",
    "\n",
    "    'Tipo documento del vendedor':'DOCUMENT_TYPE_SELLER',\n",
    "    'DNI del dueño de multimarca':'DNI_MM',\n",
    "    'Número de documento del vendedor':'DOCUMENT_NRO_SELLER',\n",
    "    'Flag Login Vendedor':'FLAG_LOGIN_SELLER',\n",
    "    'Fecha Registro del dueño del multimarca':'FECHA_REGISTER_MM',\n",
    "    \n",
    "    'Mes':'PERIOD',\n",
    "    'Fecha de venta':'FECHA_VENTA',\n",
    "    'Identificador del Chip':'CHIP',\n",
    "    'Serie del lector biométrico móvil':'BIOMETRIC_SERIE',\n",
    "    'Número de telefono':'PHONE_NUMBER',\n",
    "    'Flag Recarga':'RECHARGE',\n",
    "    'Tipo de operación de venta':'OPE_VENTA',\n",
    "    'Modalidad segmento de venta':'PRODUCT',\n",
    "    'Descipción del plan':'PLAN_DESCRIPTION',\n",
    "    'Número del pedido rerlacionado a la venta':'CONTRATO',\n",
    "    'Número de evaluación crediticia':'SEC',\n",
    "    'Número de la orden de trabajo':'SOT',\n",
    "    'Tipo venta C-CHIP/P-Pack':'TIPO_VENTA',\n",
    "    'Identificador del equipo (IMEI)':'IMEI',\n",
    "    \n",
    "    'Aplicativo donde se realizó la venta':'APP',\n",
    "    'Canal del punto de venta del material':'CHANNEL',\n",
    "    'Plataforma':'PLATFORM',\n",
    "\n",
    "    'Región asociado al punto de venta del chip':'REGION',\n",
    "    'Dpto asociado al punto de venta del chip':'DEPARTMENT_CHIP',\n",
    "    \n",
    "    'Razón social del dueño (LECTOR)':'BIOMETRIC_RAZONSOCIAL',\n",
    "    'RUC del dueño al que se despaño el lector biométrico móvil':'BIOMETRIC_RUC',\n",
    "    'Razón social del dueño del chip que realizó la venta (MATERIAL)':'CHIP_RAZONSOCIAL',\n",
    "    'RUC del dueño del chip que realizó la venta':'CHIP_RUC',\n",
    "    'Descripción del punto de venta del material':'DAC_CHIP',\n",
    "    'Código del punto de venta del material':'COD_PDV',\n",
    "    \n",
    "    'Tipo de operación del biométrico':'BIOMETRIC_OPE',\n",
    "    'Tipo Val Biométrica':'BIOMETRIC_VALIDATION',\n",
    "    'Tipo Venta Biométrico':'BIOMETRIC_OWNER',\n",
    "    'Usuario de Biometría \"Biomovil\"':'USER',\n",
    "    'Venta Realizada Por':'DONE_BY'\n",
    "}, inplace=True)\n",
    "\n",
    "index = ['CEDENT_ISMORETHAN90DAYS','CEDENT_CODOPERADOR','CEDENT_DIASANTIGUEDAD','CEDENT_PRODUCT','CEDENT_OPERATOR','CEDENT_DATE',\n",
    "         'PLAY','FIJA_TV','FIJA_INTERNET','FIJA_PHONE','DOCUMENT_TYPE_SELLER','DNI_MM','DOCUMENT_NRO_SELLER','FLAG_LOGIN_SELLER',\n",
    "         'FECHA_REGISTER_MM','PERIOD','FECHA_VENTA','CHIP','BIOMETRIC_SERIE','PHONE_NUMBER','RECHARGE','OPE_VENTA','PRODUCT','PLAN_DESCRIPTION',\n",
    "         'CONTRATO','SEC','SOT','TIPO_VENTA','IMEI','APP','CHANNEL','PLATFORM','REGION','DEPARTMENT_CHIP','BIOMETRIC_RAZONSOCIAL','BIOMETRIC_RUC',\n",
    "         'CHIP_RAZONSOCIAL','CHIP_RUC','DAC_CHIP','COD_PDV','BIOMETRIC_OPE','BIOMETRIC_VALIDATION','BIOMETRIC_OWNER','USER','DONE_BY']\n",
    "data = data.reindex(columns=index)\n",
    "\n",
    "# booleans\n",
    "data = data.astype({'FIJA_TV':'str','FIJA_INTERNET':'str','FIJA_PHONE':'str','FLAG_LOGIN_SELLER':'str','RECHARGE':'str'})\n",
    "\n",
    "data['FIJA_TV']=data['FIJA_TV'].replace({'0':''},regex=True)\n",
    "data['FIJA_TV']=data['FIJA_TV'].replace({'1':'True'},regex=True)\n",
    "\n",
    "data['FIJA_INTERNET']=data['FIJA_INTERNET'].replace({'0':''},regex=True)\n",
    "data['FIJA_INTERNET']=data['FIJA_INTERNET'].replace({'1':'True'},regex=True)\n",
    "\n",
    "data['FIJA_PHONE']=data['FIJA_PHONE'].replace({'0':''},regex=True)\n",
    "data['FIJA_PHONE']=data['FIJA_PHONE'].replace({'1':'True'},regex=True)\n",
    "\n",
    "data['FLAG_LOGIN_SELLER']=data['FLAG_LOGIN_SELLER'].replace({'0':''},regex=True)\n",
    "data['FLAG_LOGIN_SELLER']=data['FLAG_LOGIN_SELLER'].replace({'1':'True'},regex=True)\n",
    "\n",
    "data['RECHARGE']=data['RECHARGE'].replace({'No':''},regex=True)\n",
    "data['RECHARGE']=data['RECHARGE'].replace({'Si':'True'},regex=True)\n",
    "\n",
    "data = data.astype({'FIJA_TV':'bool','FIJA_INTERNET':'bool','FIJA_PHONE':'bool','FLAG_LOGIN_SELLER':'bool','RECHARGE':'bool'})\n",
    "\n",
    "# objects\n",
    "data = data.astype({\n",
    "    'CEDENT_ISMORETHAN90DAYS':'str',\n",
    "    'CEDENT_PRODUCT':'str',\n",
    "    'CEDENT_OPERATOR':'str',\n",
    "    'PLAY':'str',\n",
    "    'DOCUMENT_TYPE_SELLER':'str',\n",
    "    'DOCUMENT_NRO_SELLER':'str',\n",
    "    'BIOMETRIC_SERIE':'str',\n",
    "    'PLAN_DESCRIPTION':'str',\n",
    "    'TIPO_VENTA':'str',\n",
    "    'IMEI':'str',\n",
    "    'CONTRATO':'str',\n",
    "    'BIOMETRIC_RAZONSOCIAL':'str',\n",
    "    'CHIP_RAZONSOCIAL':'str',\n",
    "    'PLATFORM':'str',\n",
    "})\n",
    "data['CEDENT_ISMORETHAN90DAYS']=data['CEDENT_ISMORETHAN90DAYS'].replace({'nan':''},regex=True)\n",
    "data['CEDENT_PRODUCT']=data['CEDENT_PRODUCT'].replace({'nan':''},regex=True)\n",
    "data['CEDENT_OPERATOR']=data['CEDENT_OPERATOR'].replace({'nan':''},regex=True)\n",
    "data['PLAY']=data['PLAY'].replace({'nan':''},regex=True)\n",
    "data['BIOMETRIC_SERIE']=data['BIOMETRIC_SERIE'].replace({'nan':''},regex=True)\n",
    "data['PLAN_DESCRIPTION']=data['PLAN_DESCRIPTION'].replace({'nan':''},regex=True)\n",
    "data['TIPO_VENTA']=data['TIPO_VENTA'].replace({'C':'Chip'},regex=True)\n",
    "data['TIPO_VENTA']=data['TIPO_VENTA'].replace({'P':'Pack'},regex=True)\n",
    "data['IMEI']=data['IMEI'].replace({'nan':''},regex=True)\n",
    "data['BIOMETRIC_RAZONSOCIAL']=data['BIOMETRIC_RAZONSOCIAL'].replace({'nan':''},regex=True)\n",
    "data['CHIP_RAZONSOCIAL']=data['CHIP_RAZONSOCIAL'].replace({'nan':''},regex=True)\n",
    "data['PLATFORM']=data['PLATFORM'].replace({'nan':''},regex=True)\n",
    "\n",
    "data = data.astype({'DNI_MM':'str'})\n",
    "data['DNI_MM']=data['DNI_MM'].replace({'nan':'00000000'},regex=True)\n",
    "data['DNI_MM'] = data['DNI_MM'].astype(float)\n",
    "data['DNI_MM'] = data['DNI_MM'].round().astype(int)\n",
    "data['DNI_MM'] = data['DNI_MM'].astype(str)\n",
    "data['DNI_MM'] = data['DNI_MM'].str.zfill(8)\n",
    "data['DNI_MM']=data['DNI_MM'].replace({'00000000':''},regex=True)\n",
    "\n",
    "data['CEDENT_CODOPERADOR'] = data['CEDENT_CODOPERADOR'].fillna(-1)\n",
    "data['CEDENT_CODOPERADOR'] = data['CEDENT_CODOPERADOR'].round().astype(int)\n",
    "data['CEDENT_CODOPERADOR'] = data['CEDENT_CODOPERADOR'].astype(str)\n",
    "data['CEDENT_CODOPERADOR'] = data['CEDENT_CODOPERADOR'].replace({'-1':''},regex=True)\n",
    "data['SEC'] = data['SEC'].fillna(-1)\n",
    "data['SEC'] = data['SEC'].round().astype(int)\n",
    "data['SEC'] = data['SEC'].astype(str)\n",
    "data['SEC'] = data['SEC'].replace({'-1':''},regex=True)\n",
    "data['SOT'] = data['SOT'].fillna(-1)\n",
    "data['SOT'] = data['SOT'].round().astype(int)\n",
    "data['SOT'] = data['SOT'].astype(str)\n",
    "data['SOT'] = data['SOT'].replace({'-1':''},regex=True)\n",
    "\n",
    "data['BIOMETRIC_RUC'] = data['BIOMETRIC_RUC'].fillna(-1)\n",
    "data['BIOMETRIC_RUC'] = data['BIOMETRIC_RUC'].round().astype(np.int64)\n",
    "data['BIOMETRIC_RUC'] = data['BIOMETRIC_RUC'].astype(str)\n",
    "data['BIOMETRIC_RUC'] = data['BIOMETRIC_RUC'].replace({'-1':''},regex=True)\n",
    "data['CHIP_RUC'] = data['CHIP_RUC'].fillna(-1)\n",
    "data['CHIP_RUC'] = data['CHIP_RUC'].round().astype(np.int64)\n",
    "data['CHIP_RUC'] = data['CHIP_RUC'].astype(str)\n",
    "data['CHIP_RUC'] = data['CHIP_RUC'].replace({'-1':''},regex=True)\n",
    "\n",
    "data['PHONE_NUMBER'] = data['PHONE_NUMBER'].astype(float)\n",
    "data['PHONE_NUMBER'] = data['PHONE_NUMBER'].round().astype(int)\n",
    "data['PHONE_NUMBER'] = data['PHONE_NUMBER'].astype(str)\n",
    "data['PHONE_NUMBER'] = data['PHONE_NUMBER'].str.zfill(9)\n",
    "data['PHONE_NUMBER'] = data['PHONE_NUMBER'].replace({'999999998':'999999999'},regex=True)\n",
    "\n",
    "data = data.astype({'CHIP':'str'})\n",
    "data['CHIP']=data['CHIP'].replace({'nan':'0'},regex=True)\n",
    "data['CHIP'] = data['CHIP'].astype(np.int64)\n",
    "data['CHIP'] = data['CHIP'].fillna(0)\n",
    "data['CHIP'] = data['CHIP'].round().astype(np.int64)\n",
    "\n",
    "data['CEDENT_DIASANTIGUEDAD'] = data['CEDENT_DIASANTIGUEDAD'].fillna(-1)\n",
    "data['CEDENT_DIASANTIGUEDAD'] = data['CEDENT_DIASANTIGUEDAD'].round().astype(int)\n",
    "\n",
    "data['FECHA_VENTA'] = pd.to_datetime(data['FECHA_VENTA'],format='%Y/%m/%d')\n",
    "data['FECHA_VENTA'] = data['FECHA_VENTA'].dt.strftime('%d/%m/%Y')\n",
    "data['FECHA_VENTA'] = pd.to_datetime(data['FECHA_VENTA'], format='%d/%m/%Y')\n",
    "data['FECHA_REGISTER_MM'] = pd.to_datetime(data['FECHA_REGISTER_MM'],format='%Y/%m/%d')\n",
    "data['FECHA_REGISTER_MM'] = data['FECHA_REGISTER_MM'].dt.strftime('%d/%m/%Y')\n",
    "data['FECHA_REGISTER_MM'] = pd.to_datetime(data['FECHA_REGISTER_MM'], format='%d/%m/%Y')\n",
    "# CEDENT_DATE\n",
    "data['CEDENT_DATE'].replace('', pd.NaT)#, inplace=True)\n",
    "data['CEDENT_DATE'] = pd.to_datetime(data['CEDENT_DATE'], format='%Y/%m/%d', errors='coerce')\n",
    "data['CEDENT_DATE'] = data['CEDENT_DATE'].fillna(pd.Timestamp('2000-01-01'))\n",
    "data['CEDENT_DATE'] = data['CEDENT_DATE'].dt.strftime('%d/%m/%Y')\n",
    "data['CEDENT_DATE'] = pd.to_datetime(data['CEDENT_DATE'], format='%d/%m/%Y')\n",
    "\n",
    "def convertir_fecha(fecha):\n",
    "    day, month, year = fecha.split('/')\n",
    "    return f'{year}-{month}-{day}'"
   ]
  },
  {
   "cell_type": "markdown",
   "id": "47dec02d-2e27-4eae-a348-fb4b86eea73a",
   "metadata": {},
   "source": [
    "# PROCESS"
   ]
  },
  {
   "cell_type": "code",
   "execution_count": 15,
   "id": "cf3ba0d7-ee8d-47fc-8e9e-866b43d70638",
   "metadata": {},
   "outputs": [
    {
     "data": {
      "text/plain": [
       "(23184, 45)"
      ]
     },
     "execution_count": 15,
     "metadata": {},
     "output_type": "execute_result"
    }
   ],
   "source": [
    "rangos = data[(data['FECHA_VENTA']>='2024-01-01')&(data['FECHA_VENTA']<='2024-01-31')]\n",
    "rangos.shape"
   ]
  },
  {
   "cell_type": "code",
   "execution_count": 12,
   "id": "45f3dde4-f5ba-4944-a7b5-5f587f7e681d",
   "metadata": {},
   "outputs": [
    {
     "data": {
      "text/plain": [
       "(193, 45)"
      ]
     },
     "execution_count": 12,
     "metadata": {},
     "output_type": "execute_result"
    }
   ],
   "source": [
    "d1=data['FECHA_VENTA']=='2024-01-01'\n",
    "d11 = data[d1]\n",
    "d11.shape"
   ]
  },
  {
   "cell_type": "code",
   "execution_count": 13,
   "id": "caffa57d-8096-45e4-a04f-32ce5b5fefd6",
   "metadata": {},
   "outputs": [
    {
     "data": {
      "text/plain": [
       "(861, 45)"
      ]
     },
     "execution_count": 13,
     "metadata": {},
     "output_type": "execute_result"
    }
   ],
   "source": [
    "d2=data['FECHA_VENTA']=='2024-01-02'\n",
    "d22 = data[d2]\n",
    "d22.shape"
   ]
  },
  {
   "cell_type": "code",
   "execution_count": 14,
   "id": "700dff9c-e928-4358-88b3-88bbbbbcf75f",
   "metadata": {},
   "outputs": [
    {
     "data": {
      "text/plain": [
       "(719, 45)"
      ]
     },
     "execution_count": 14,
     "metadata": {},
     "output_type": "execute_result"
    }
   ],
   "source": [
    "d3=data['FECHA_VENTA']=='2024-01-03'\n",
    "d33 = data[d3]\n",
    "d33.shape"
   ]
  },
  {
   "cell_type": "code",
   "execution_count": 11,
   "id": "b5006003-1523-4b59-ad25-60ae2495c633",
   "metadata": {},
   "outputs": [
    {
     "data": {
      "text/plain": [
       "(159640, 45)"
      ]
     },
     "execution_count": 11,
     "metadata": {},
     "output_type": "execute_result"
    }
   ],
   "source": [
    "data.shape"
   ]
  },
  {
   "cell_type": "code",
   "execution_count": null,
   "id": "59399fbe-3d66-439d-8e0b-3e9b924c4582",
   "metadata": {},
   "outputs": [],
   "source": [
    "data_for_process=data\n",
    "data_for_process['REPEAT_COUNT'] = data.groupby('CHIP')['CHIP'].transform('count')\n",
    "data_unique = data_for_process.drop_duplicates(subset='CHIP', keep='first')\n",
    "data_unique.shape"
   ]
  }
 ],
 "metadata": {
  "kernelspec": {
   "display_name": "Python 3 (ipykernel)",
   "language": "python",
   "name": "python3"
  },
  "language_info": {
   "codemirror_mode": {
    "name": "ipython",
    "version": 3
   },
   "file_extension": ".py",
   "mimetype": "text/x-python",
   "name": "python",
   "nbconvert_exporter": "python",
   "pygments_lexer": "ipython3",
   "version": "3.12.0"
  }
 },
 "nbformat": 4,
 "nbformat_minor": 5
}
